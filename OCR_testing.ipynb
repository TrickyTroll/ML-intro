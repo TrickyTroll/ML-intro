{
  "nbformat": 4,
  "nbformat_minor": 0,
  "metadata": {
    "colab": {
      "name": "OCR_testing.ipynb",
      "provenance": [],
      "mount_file_id": "1CHVT8cuNURZZaPcfXdjhDjMiLHTqLXqF",
      "authorship_tag": "ABX9TyOxVFsvtZfLRWqsMmGE7CTt",
      "include_colab_link": true
    },
    "kernelspec": {
      "name": "python3",
      "display_name": "Python 3"
    }
  },
  "cells": [
    {
      "cell_type": "markdown",
      "metadata": {
        "id": "view-in-github",
        "colab_type": "text"
      },
      "source": [
        "<a href=\"https://colab.research.google.com/github/TrickyTroll/ML-intro/blob/Tricky/OCR_testing.ipynb\" target=\"_parent\"><img src=\"https://colab.research.google.com/assets/colab-badge.svg\" alt=\"Open In Colab\"/></a>"
      ]
    },
    {
      "cell_type": "markdown",
      "metadata": {
        "id": "w-s0EE0C4FAs"
      },
      "source": [
        "# Maintenant que le modèle est fait, voici quelques tests"
      ]
    },
    {
      "cell_type": "markdown",
      "metadata": {
        "id": "OrC8wJBg4oSP"
      },
      "source": [
        "## Prise de photo"
      ]
    },
    {
      "cell_type": "code",
      "metadata": {
        "id": "kE3zj7Gz4RHB"
      },
      "source": [
        "from IPython.display import display, Javascript\n",
        "from google.colab.output import eval_js\n",
        "from base64 import b64decode\n",
        "\n",
        "def take_photo(filename='photo.jpg', quality=0.8):\n",
        "  js = Javascript('''\n",
        "    async function takePhoto(quality) {\n",
        "      const div = document.createElement('div');\n",
        "      const capture = document.createElement('button');\n",
        "      capture.textContent = 'Capture';\n",
        "      div.appendChild(capture);\n",
        "\n",
        "      const video = document.createElement('video');\n",
        "      video.style.display = 'block';\n",
        "      const stream = await navigator.mediaDevices.getUserMedia({video: true});\n",
        "\n",
        "      document.body.appendChild(div);\n",
        "      div.appendChild(video);\n",
        "      video.srcObject = stream;\n",
        "      await video.play();\n",
        "\n",
        "      // Resize the output to fit the video element.\n",
        "      google.colab.output.setIframeHeight(document.documentElement.scrollHeight, true);\n",
        "\n",
        "      // Wait for Capture to be clicked.\n",
        "      await new Promise((resolve) => capture.onclick = resolve);\n",
        "\n",
        "      const canvas = document.createElement('canvas');\n",
        "      canvas.width = video.videoWidth;\n",
        "      canvas.height = video.videoHeight;\n",
        "      canvas.getContext('2d').drawImage(video, 0, 0);\n",
        "      stream.getVideoTracks()[0].stop();\n",
        "      div.remove();\n",
        "      return canvas.toDataURL('image/jpeg', quality);\n",
        "    }\n",
        "    ''')\n",
        "  display(js)\n",
        "  data = eval_js('takePhoto({})'.format(quality))\n",
        "  binary = b64decode(data.split(',')[1])\n",
        "  with open(filename, 'wb') as f:\n",
        "    f.write(binary)\n",
        "  return filename"
      ],
      "execution_count": 128,
      "outputs": []
    },
    {
      "cell_type": "code",
      "metadata": {
        "id": "8liUBmtJ4RGd",
        "outputId": "28c7dbd2-1f31-43fe-f479-d4fbee4624cb",
        "colab": {
          "base_uri": "https://localhost:8080/",
          "height": 514
        }
      },
      "source": [
        "from IPython.display import Image\n",
        "try:\n",
        "  filename = take_photo()\n",
        "  print('Saved to {}'.format(filename))\n",
        "  \n",
        "  # Show the image which was just taken.\n",
        "  display(Image(filename))\n",
        "except Exception as err:\n",
        "  # Errors will be thrown if the user does not have a webcam or if they do not\n",
        "  # grant the page permission to access it.\n",
        "  print(str(err))"
      ],
      "execution_count": 129,
      "outputs": [
        {
          "output_type": "display_data",
          "data": {
            "application/javascript": [
              "\n",
              "    async function takePhoto(quality) {\n",
              "      const div = document.createElement('div');\n",
              "      const capture = document.createElement('button');\n",
              "      capture.textContent = 'Capture';\n",
              "      div.appendChild(capture);\n",
              "\n",
              "      const video = document.createElement('video');\n",
              "      video.style.display = 'block';\n",
              "      const stream = await navigator.mediaDevices.getUserMedia({video: true});\n",
              "\n",
              "      document.body.appendChild(div);\n",
              "      div.appendChild(video);\n",
              "      video.srcObject = stream;\n",
              "      await video.play();\n",
              "\n",
              "      // Resize the output to fit the video element.\n",
              "      google.colab.output.setIframeHeight(document.documentElement.scrollHeight, true);\n",
              "\n",
              "      // Wait for Capture to be clicked.\n",
              "      await new Promise((resolve) => capture.onclick = resolve);\n",
              "\n",
              "      const canvas = document.createElement('canvas');\n",
              "      canvas.width = video.videoWidth;\n",
              "      canvas.height = video.videoHeight;\n",
              "      canvas.getContext('2d').drawImage(video, 0, 0);\n",
              "      stream.getVideoTracks()[0].stop();\n",
              "      div.remove();\n",
              "      return canvas.toDataURL('image/jpeg', quality);\n",
              "    }\n",
              "    "
            ],
            "text/plain": [
              "<IPython.core.display.Javascript object>"
            ]
          },
          "metadata": {
            "tags": []
          }
        },
        {
          "output_type": "stream",
          "text": [
            "Saved to photo.jpg\n"
          ],
          "name": "stdout"
        },
        {
          "output_type": "display_data",
          "data": {
            "image/jpeg": "[encoded data removed]",
            "text/plain": [
              "<IPython.core.display.Image object>"
            ]
          },
          "metadata": {
            "tags": []
          }
        }
      ]
    },
    {
      "cell_type": "markdown",
      "metadata": {
        "id": "Wr2sNiO54yaX"
      },
      "source": [
        "## Chargement du modèle"
      ]
    },
    {
      "cell_type": "code",
      "metadata": {
        "id": "405DPqZV5F8B"
      },
      "source": [
        "from tensorflow.keras.models import load_model"
      ],
      "execution_count": 130,
      "outputs": []
    },
    {
      "cell_type": "code",
      "metadata": {
        "id": "F8bFcT-l4Wxq",
        "outputId": "c405a181-f97d-43ee-9eb2-ce086cccc651",
        "colab": {
          "base_uri": "https://localhost:8080/",
          "height": 34
        }
      },
      "source": [
        "# load the numbers handwriting OCR model\n",
        "print(\"[INFO] loading handwriting OCR model...\")\n",
        "model = load_model(\"/content/drive/My Drive/OCR_Models/test\")"
      ],
      "execution_count": 131,
      "outputs": [
        {
          "output_type": "stream",
          "text": [
            "[INFO] loading handwriting OCR model...\n"
          ],
          "name": "stdout"
        }
      ]
    },
    {
      "cell_type": "markdown",
      "metadata": {
        "id": "bB6Ir-In5VRH"
      },
      "source": [
        "## Préparation de l'image"
      ]
    },
    {
      "cell_type": "code",
      "metadata": {
        "id": "xeECVTkC5ite"
      },
      "source": [
        "from imutils.contours import sort_contours\n",
        "from tensorflow.keras.datasets import mnist\n",
        "import tensorflow as tf\n",
        "from tensorflow import keras\n",
        "import numpy as np\n",
        "import argparse\n",
        "import imutils\n",
        "import cv2\n",
        "from google.colab.patches import cv2_imshow\n",
        "from matplotlib import pyplot as plt\n",
        "((train_data, train_labels), (test_data, test_labels)) = mnist.load_data()"
      ],
      "execution_count": 132,
      "outputs": []
    },
    {
      "cell_type": "code",
      "metadata": {
        "id": "fDHcYHls5SLW",
        "outputId": "374bb5bd-e9c5-4f35-cf0e-72aeb16c6f6c",
        "colab": {
          "base_uri": "https://localhost:8080/",
          "height": 45
        }
      },
      "source": [
        "image = cv2.imread(\"photo.jpg\")\n",
        "gray = cv2.cvtColor(image, cv2.COLOR_BGR2GRAY)\n",
        "blurred = cv2.GaussianBlur(gray, (5, 5), 0)\n",
        "(thresh, blackAndWhiteImage) = cv2.threshold(gray, 95, 255, cv2.THRESH_BINARY)\n",
        "resized_image = cv2.resize(blackAndWhiteImage, (28, 28))\n",
        "cv2_imshow(resized_image)"
      ],
      "execution_count": 133,
      "outputs": [
        {
          "output_type": "display_data",
          "data": {
            "image/png": "[encoded data removed]",
            "text/plain": [
              "<PIL.Image.Image image mode=L size=28x28 at 0x7F5C6ABB2F98>"
            ]
          },
          "metadata": {
            "tags": []
          }
        }
      ]
    },
    {
      "cell_type": "code",
      "metadata": {
        "id": "In3umEUOC-S3",
        "outputId": "62fec232-e865-4220-afc4-4c13fd846874",
        "colab": {
          "base_uri": "https://localhost:8080/",
          "height": 265
        }
      },
      "source": [
        "plt.figure()\n",
        "plt.imshow(resized_image)\n",
        "plt.colorbar()\n",
        "plt.grid(False)\n",
        "plt.show()"
      ],
      "execution_count": 134,
      "outputs": [
        {
          "output_type": "display_data",
          "data": {
            "image/png": "[encoded data removed]",
            "text/plain": [
              "<Figure size 432x288 with 2 Axes>"
            ]
          },
          "metadata": {
            "tags": [],
            "needs_background": "light"
          }
        }
      ]
    },
    {
      "cell_type": "markdown",
      "metadata": {
        "id": "edpMvwPoFJBD"
      },
      "source": [
        "## Testing the model"
      ]
    },
    {
      "cell_type": "code",
      "metadata": {
        "id": "BEQCPOOMFe7m",
        "outputId": "42ea1038-1d0a-4450-915a-60bda1d94f9f",
        "colab": {
          "base_uri": "https://localhost:8080/",
          "height": 34
        }
      },
      "source": [
        "img = (np.expand_dims(resized_image,0))\n",
        "\n",
        "print(img.shape)"
      ],
      "execution_count": 145,
      "outputs": [
        {
          "output_type": "stream",
          "text": [
            "(1, 28, 28)\n"
          ],
          "name": "stdout"
        }
      ]
    },
    {
      "cell_type": "code",
      "metadata": {
        "id": "jm3nAny-Fk5V",
        "outputId": "a2eab825-4673-4cee-f368-7d85f258af3c",
        "colab": {
          "base_uri": "https://localhost:8080/",
          "height": 34
        }
      },
      "source": [
        "predictions_array = probability_model.predict(img)\n",
        "\n",
        "print(predictions_array)"
      ],
      "execution_count": 146,
      "outputs": [
        {
          "output_type": "stream",
          "text": [
            "[[0. 0. 0. 0. 0. 0. 0. 1. 0. 0.]]\n"
          ],
          "name": "stdout"
        }
      ]
    },
    {
      "cell_type": "code",
      "metadata": {
        "id": "ZqUHOlGxHrMY",
        "outputId": "99faa9dc-5f62-45fa-eae1-86c2ebda629c",
        "colab": {
          "base_uri": "https://localhost:8080/",
          "height": 34
        }
      },
      "source": [
        "np.argmax(predictions_array[0])"
      ],
      "execution_count": 150,
      "outputs": [
        {
          "output_type": "execute_result",
          "data": {
            "text/plain": [
              "7"
            ]
          },
          "metadata": {
            "tags": []
          },
          "execution_count": 150
        }
      ]
    },
    {
      "cell_type": "code",
      "metadata": {
        "id": "T-aRCjH6IWoQ"
      },
      "source": [
        "def plot_single(i, predictions_array, true_label, img):\n",
        "  true_label, img = true_label[i], img\n",
        "  plt.grid(False)\n",
        "  plt.xticks([])\n",
        "  plt.yticks([])\n",
        "\n",
        "  plt.imshow(img, cmap=plt.cm.binary)\n",
        "\n",
        "  predicted_label = np.argmax(predictions_array)\n",
        "  if predicted_label == true_label:\n",
        "    color = 'blue'\n",
        "  else:\n",
        "    color = 'red'\n",
        "\n",
        "  plt.xlabel(\"{} {:2.0f}% ({})\".format(predicted_label,\n",
        "                                100*np.max(predictions_array),\n",
        "                                true_label),\n",
        "                                color=color)\n"
      ],
      "execution_count": 151,
      "outputs": []
    },
    {
      "cell_type": "code",
      "metadata": {
        "id": "GDR8A5wrKSpD",
        "outputId": "056bbdb0-57fe-4261-cddb-9e24b4dc9b7c",
        "colab": {
          "base_uri": "https://localhost:8080/",
          "height": 34
        }
      },
      "source": [
        "type(resized_image)\n",
        "predicted_label = np.argmax(predictions_array)\n",
        "predicted_label"
      ],
      "execution_count": 152,
      "outputs": [
        {
          "output_type": "execute_result",
          "data": {
            "text/plain": [
              "7"
            ]
          },
          "metadata": {
            "tags": []
          },
          "execution_count": 152
        }
      ]
    },
    {
      "cell_type": "markdown",
      "metadata": {
        "id": "8xy61alyFPwD"
      },
      "source": [
        "## Stuff for later"
      ]
    },
    {
      "cell_type": "code",
      "metadata": {
        "id": "fRHMOn-sIskC"
      },
      "source": [
        "# i = 0\n",
        "# plt.figure(figsize=(6,3))\n",
        "# plt.subplot(1,2,1)\n",
        "# plot_image(i, predictions_single[i], test_labels, resized_image)\n",
        "# plt.subplot(1,2,2)\n",
        "# plot_value_array(i, predictions_single[i],  test_labels)\n",
        "# plt.show()"
      ],
      "execution_count": 153,
      "outputs": []
    },
    {
      "cell_type": "code",
      "metadata": {
        "id": "npcbxhLe5h3U"
      },
      "source": [
        "# edged = cv2.Canny(blurred, 30, 150)\n",
        "# cnts = cv2.findContours(edged.copy(), cv2.RETR_EXTERNAL,\n",
        "# \tcv2.CHAIN_APPROX_SIMPLE)\n",
        "# cnts = imutils.grab_contours(cnts)\n",
        "# cnts = sort_contours(cnts, method=\"left-to-right\")[0]\n",
        "# chars = []\n",
        "# for c in cnts:\n",
        "# \t# compute the bounding box of the contour\n",
        "# \t(x, y, w, h) = cv2.boundingRect(c)\n",
        "# \t# filter out bounding boxes, ensuring they are neither too small\n",
        "# \t# nor too large\n",
        "# \tif (w >= 5 and w <= 150) and (h >= 15 and h <= 120):\n",
        "# \t\t# extract the character and threshold it to make the character\n",
        "# \t\t# appear as *white* (foreground) on a *black* background, then\n",
        "# \t\t# grab the width and height of the thresholded image\n",
        "# \t\troi = gray[y:y + h, x:x + w]\n",
        "# \t\tthresh = cv2.threshold(roi, 0, 255,\n",
        "# \t\t\tcv2.THRESH_BINARY_INV | cv2.THRESH_OTSU)[1]\n",
        "# \t\t(tH, tW) = thresh.shape\n",
        "# \t\t# if the width is greater than the height, resize along the\n",
        "# \t\t# width dimension\n",
        "# \t\tif tW > tH:\n",
        "# \t\t\tthresh = imutils.resize(thresh, width=32)\n",
        "# \t\t# otherwise, resize along the height\n",
        "# \t\telse:\n",
        "# \t\t\tthresh = imutils.resize(thresh, height=32)\n",
        "#    \t\t# re-grab the image dimensions (now that its been resized)\n",
        "# \t\t# and then determine how much we need to pad the width and\n",
        "# \t\t# height such that our image will be 32x32\n",
        "# \t\t(tH, tW) = thresh.shape\n",
        "# \t\tdX = int(max(0, 32 - tW) / 2.0)\n",
        "# \t\tdY = int(max(0, 32 - tH) / 2.0)\n",
        "# \t\t# pad the image and force 32x32 dimensions\n",
        "# \t\tpadded = cv2.copyMakeBorder(thresh, top=dY, bottom=dY,\n",
        "# \t\t\tleft=dX, right=dX, borderType=cv2.BORDER_CONSTANT,\n",
        "# \t\t\tvalue=(0, 0, 0))\n",
        "# \t\tpadded = cv2.resize(padded, (32, 32))\n",
        "# \t\t# prepare the padded image for classification via our\n",
        "# \t\t# handwriting OCR model\n",
        "# \t\tpadded = padded.astype(\"float32\") / 255.0\n",
        "# \t\tpadded = np.expand_dims(padded, axis=-1)\n",
        "# \t\t# update our list of characters that will be OCR'd\n",
        "# \t\tchars.append((padded, (x, y, w, h)))"
      ],
      "execution_count": 142,
      "outputs": []
    },
    {
      "cell_type": "code",
      "metadata": {
        "id": "gutz0PGG6dw_"
      },
      "source": [
        "# # extract the bounding box locations and padded characters\n",
        "# boxes = [b[1] for b in chars]\n",
        "# chars = np.array([c[0] for c in chars], dtype=\"float32\")\n",
        "# boxes\n",
        "# # OCR the characters using our handwriting recognition model\n",
        "# # probability_model = tf.keras.Sequential([model, \n",
        "# #                                          tf.keras.layers.Softmax()])\n",
        "# # preds = probability_model.predict(boxes)\n",
        "# # # define the list of label names\n",
        "# # labelNames = \"0123456789\"\n",
        "# # labelNames += \"ABCDEFGHIJKLMNOPQRSTUVWXYZ\"\n",
        "# # labelNames = [l for l in labelNames]"
      ],
      "execution_count": 143,
      "outputs": []
    },
    {
      "cell_type": "code",
      "metadata": {
        "id": "hHVguBAM6fTf"
      },
      "source": [
        "# # loop over the predictions and bounding box locations together\n",
        "# for (pred, (x, y, w, h)) in zip(preds, boxes):\n",
        "# \t# find the index of the label with the largest corresponding\n",
        "# \t# probability, then extract the probability and label\n",
        "# \ti = np.argmax(pred)\n",
        "# \tprob = pred[i]\n",
        "# \tlabel = labelNames[i]\n",
        "# \t# draw the prediction on the image\n",
        "# \tprint(\"[INFO] {} - {:.2f}%\".format(label, prob * 100))\n",
        "# \tcv2.rectangle(image, (x, y), (x + w, y + h), (0, 255, 0), 2)\n",
        "# \tcv2.putText(image, label, (x - 10, y - 10),\n",
        "# \t\tcv2.FONT_HERSHEY_SIMPLEX, 1.2, (0, 255, 0), 2)\n",
        "# \t# show the image\n",
        "# \tcv2.imshow(\"Image\", image)\n",
        "# \tcv2.waitKey(0)"
      ],
      "execution_count": 144,
      "outputs": []
    },
    {
      "cell_type": "code",
      "metadata": {
        "id": "OGeai9UQ6nLA"
      },
      "source": [
        ""
      ],
      "execution_count": 144,
      "outputs": []
    }
  ]
}