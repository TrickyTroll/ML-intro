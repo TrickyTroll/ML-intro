{
  "nbformat": 4,
  "nbformat_minor": 0,
  "metadata": {
    "colab": {
      "name": "Untitled0.ipynb",
      "provenance": []
    },
    "kernelspec": {
      "name": "python3",
      "display_name": "Python 3"
    }
  },
  "cells": [
    {
      "cell_type": "markdown",
      "metadata": {
        "id": "xjBWvL9jWkoH",
        "colab_type": "text"
      },
      "source": [
        ""
      ]
    },
    {
      "cell_type": "markdown",
      "metadata": {
        "id": "DyhJFD4zWmne",
        "colab_type": "text"
      },
      "source": [
        "Prints the word hello, world"
      ]
    },
    {
      "cell_type": "code",
      "metadata": {
        "id": "hr0l1rWNWNZW",
        "colab_type": "code",
        "colab": {
          "base_uri": "https://localhost:8080/",
          "height": 34
        },
        "outputId": "67d5ffca-2470-49aa-9582-32143ab429c7"
      },
      "source": [
        "print(\"hello, world\")"
      ],
      "execution_count": 1,
      "outputs": [
        {
          "output_type": "stream",
          "text": [
            "hello, world\n"
          ],
          "name": "stdout"
        }
      ]
    }
  ]
}